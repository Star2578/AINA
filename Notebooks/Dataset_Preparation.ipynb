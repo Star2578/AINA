{
 "cells": [
  {
   "cell_type": "markdown",
   "id": "370d5550",
   "metadata": {},
   "source": [
    "# Dataset Preparation\n",
    "\n",
    "upload dataset to huggingface"
   ]
  },
  {
   "cell_type": "code",
   "execution_count": null,
   "id": "03dd4e9d",
   "metadata": {},
   "outputs": [],
   "source": [
    "!pip install -q datasets"
   ]
  },
  {
   "cell_type": "code",
   "execution_count": null,
   "id": "a00dbfd3",
   "metadata": {},
   "outputs": [],
   "source": [
    "import pandas as pd\n",
    "from sklearn.model_selection import train_test_split\n",
    "from huggingface_hub import login\n",
    "from datasets import Dataset, load_dataset"
   ]
  },
  {
   "cell_type": "code",
   "execution_count": null,
   "id": "a840169a",
   "metadata": {},
   "outputs": [],
   "source": [
    "df1 = pd.read_csv('/content/200_aina_smirk.csv')\n",
    "df2 = pd.read_csv('/content/200_aina_surprise.csv')"
   ]
  },
  {
   "cell_type": "code",
   "execution_count": null,
   "id": "985c4924",
   "metadata": {},
   "outputs": [],
   "source": [
    "df = pd.concat([df1, df2])\n",
    "\n",
    "train_df, test_df = train_test_split(df, train_size=0.8, stratify=df['label'], random_state=42)\n",
    "train_dataset = Dataset.from_pandas(train_df)\n",
    "test_dataset = Dataset.from_pandas(test_df)\n",
    "dataset = DatasetDict({\n",
    "    'train': train_dataset,\n",
    "    'test': test_dataset\n",
    "})"
   ]
  },
  {
   "cell_type": "code",
   "execution_count": null,
   "id": "9592926c",
   "metadata": {},
   "outputs": [],
   "source": [
    "login"
   ]
  },
  {
   "cell_type": "code",
   "execution_count": null,
   "id": "3f97f37d",
   "metadata": {},
   "outputs": [],
   "source": [
    "dataset.push_to_hub('KittiphopKhankaew/aina-emotion-classification')"
   ]
  },
  {
   "cell_type": "code",
   "execution_count": null,
   "id": "c1a81776",
   "metadata": {},
   "outputs": [],
   "source": [
    "dataset = load_dataset('KittiphopKhankaew/aina-emotion-classification')\n",
    "dataset"
   ]
  }
 ],
 "metadata": {
  "kernelspec": {
   "display_name": "base",
   "language": "python",
   "name": "python3"
  },
  "language_info": {
   "name": "python",
   "version": "3.12.4"
  }
 },
 "nbformat": 4,
 "nbformat_minor": 5
}
